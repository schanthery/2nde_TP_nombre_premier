{
 "cells": [
  {
   "cell_type": "markdown",
   "metadata": {},
   "source": [
    "# TP Python et les nombres premiers\n",
    "\n",
    "L'objectif de ce tp est d'écrire un programme en Python permettant d'afficher les premiers nombres premiers\n",
    "\n"
   ]
  },
  {
   "cell_type": "markdown",
   "metadata": {},
   "source": [
    "## Etape 0: Savoir se servir d'un Jupyter Notebook\n",
    "\n",
    "Les notebooks Jupyter sont des cahiers électroniques qui, dans le même document, peuvent rassembler du texte, des images, des formules mathématiques et du code informatique exécutable. Ils sont manipulables interactivement dans un navigateur web.\n",
    "\n",
    "Un notebook est composé de cellules.\n",
    "\n",
    "Il y a en 2 types: \n",
    "- des cellules de texte comme celle que vous êtes en train de lire\n",
    "- des cellules de code python comme celle juste après ce texte\n"
   ]
  },
  {
   "cell_type": "code",
   "execution_count": 1,
   "metadata": {},
   "outputs": [],
   "source": [
    "# Une cellule python contient du code python\n",
    "for i in range(15):\n",
    "    print(\"La cellule de code n°1 fait sa sortie ici\")"
   ]
  },
  {
   "cell_type": "markdown",
   "metadata": {},
   "source": [
    "Une cellule de code contient donc .....**du code en Python** \n",
    "\n",
    "Vous pouvez donc lancer l'exécution de ce code de plusieurs façons.\n",
    "\n",
    "Pour cela, sélectionnez la cellule de code suivante et exécutez cette cellule de code \n",
    "- soit en cliquant sur le bouton run de la barre d'outils en haut de cette page\n",
    "<img src=\"img/barre.jpg\" width=400>\n",
    "- soit en tapant sur les touches <kbd>Ctrl</kbd> + <kbd>Entrée</kbd>  dans la cellule ci dessous.\n",
    "\n",
    "Essayez de faire cela avec la cellule suivante ou la précédente\n"
   ]
  },
  {
   "cell_type": "code",
   "execution_count": 2,
   "metadata": {},
   "outputs": [],
   "source": [
    "# Une cellule python contient du code python\n",
    "for i in range(5):\n",
    "    print(\"Le cellule n°2 de code fait sa sortie ici\")"
   ]
  },
  {
   "cell_type": "markdown",
   "metadata": {},
   "source": [
    "Remarquez que la cellule de code a fait une sortie qui s'affiche juste en dessous.\n",
    "\n",
    "Notez qu'on peut interrompre l'exécution d'une cellule de code avec le carré de barre d'outils\n",
    "<img src=\"img/barre2.jpg\" width=400>\n",
    "\n",
    "Dans la cellule ci dessous, est ecrit un programme qui s'exécute très lentement.\n",
    "Lancer la cellule puis interromper son exécution avant 5 secondes en la sélectionnant et en cliquant sur le bouton `stop` "
   ]
  },
  {
   "cell_type": "code",
   "execution_count": 17,
   "metadata": {},
   "outputs": [
    {
     "name": "stdout",
     "output_type": "stream",
     "text": [
      "Le cellule n°3 de code fait sa sortie ici\n",
      "Le cellule n°3 de code fait sa sortie ici\n",
      "Le cellule n°3 de code fait sa sortie ici\n",
      "Le cellule n°3 de code fait sa sortie ici\n"
     ]
    },
    {
     "ename": "KeyboardInterrupt",
     "evalue": "",
     "output_type": "error",
     "traceback": [
      "\u001b[1;31m---------------------------------------------------------------------------\u001b[0m",
      "\u001b[1;31mKeyboardInterrupt\u001b[0m                         Traceback (most recent call last)",
      "\u001b[1;32m<ipython-input-17-5adb96e6f3f4>\u001b[0m in \u001b[0;36m<module>\u001b[1;34m\u001b[0m\n\u001b[0;32m      3\u001b[0m \u001b[1;32mfor\u001b[0m \u001b[0mi\u001b[0m \u001b[1;32min\u001b[0m \u001b[0mrange\u001b[0m\u001b[1;33m(\u001b[0m\u001b[1;36m5\u001b[0m\u001b[1;33m)\u001b[0m\u001b[1;33m:\u001b[0m\u001b[1;33m\u001b[0m\u001b[1;33m\u001b[0m\u001b[0m\n\u001b[0;32m      4\u001b[0m     \u001b[0mprint\u001b[0m\u001b[1;33m(\u001b[0m\u001b[1;34m\"Le cellule n°3 de code fait sa sortie ici\"\u001b[0m\u001b[1;33m)\u001b[0m\u001b[1;33m\u001b[0m\u001b[1;33m\u001b[0m\u001b[0m\n\u001b[1;32m----> 5\u001b[1;33m     \u001b[0mtime\u001b[0m\u001b[1;33m.\u001b[0m\u001b[0msleep\u001b[0m\u001b[1;33m(\u001b[0m\u001b[1;36m2\u001b[0m\u001b[1;33m)\u001b[0m\u001b[1;33m\u001b[0m\u001b[1;33m\u001b[0m\u001b[0m\n\u001b[0m",
      "\u001b[1;31mKeyboardInterrupt\u001b[0m: "
     ]
    }
   ],
   "source": [
    "import time\n",
    "# Une cellule python contient du code python\n",
    "for i in range(5):\n",
    "    print(\"Le cellule n°3 de code fait sa sortie ici\")\n",
    "    time.sleep(2)"
   ]
  },
  {
   "cell_type": "markdown",
   "metadata": {},
   "source": [
    "Vous avez constaté que lorsqu'on interrompt un programme, celui ci proteste à travers un message d'erreur :\n",
    "<img src=\"img/erreur.jpg\" width=400>\n",
    "C'est tout à fait normal.\n",
    "\n",
    "Plus rapidement, voici les fonctions des autres boutons de la barre d'outils\n",
    "<img src=\"img/barre3.jpg\" width=600>\n",
    "1. **Enregistrer votre notebook : Cette fonction vous sera utile pour poursuivre votre notebook à un autre moment\n",
    "2. Insérer une cellule après.\n",
    "3. Couper une cellule\n",
    "4. Copier une cellule\n",
    "5. Coller une cellule\n",
    "6. Déplacer une cellule vers le haut\n",
    "7. Déplacer une cellule vers le bas\n",
    "8. **executer ou  <kbd>Ctrl</kbd> + <kbd>Entrée</kbd>\n",
    "9. **interrompre l'execution d'une cellule\n",
    "10. redémarrer le noyau Python\n",
    "11. **redémarrer le noyau Python et re-executer toutes les cellules du notebook\n",
    "\n",
    "En **gras**, les commandes dont vous vous servirez le plus souvent\n",
    "\n"
   ]
  },
  {
   "cell_type": "markdown",
   "metadata": {},
   "source": [
    "# Etape 1 : Faire une division euclidienne\n",
    "\n",
    "Vous connaissez la division euclidienne :\n",
    "\n",
    "<img src=\"img/Division_euclidienne.png\" width=400 >\n",
    "\n",
    "Il existe une commande python pour obtenir le **quotient la division de a par b : `//`**\n",
    "\n",
    "Testez la ci-dessous (en faisant <kbd>Ctrl</kbd> + <kbd>Entrée</kbd> sur la cellule suivante)\n",
    "\n"
   ]
  },
  {
   "cell_type": "code",
   "execution_count": 4,
   "metadata": {},
   "outputs": [
    {
     "data": {
      "text/plain": [
       "24"
      ]
     },
     "execution_count": 4,
     "metadata": {},
     "output_type": "execute_result"
    }
   ],
   "source": [
    "1237//51"
   ]
  },
  {
   "cell_type": "markdown",
   "metadata": {},
   "source": [
    "\n",
    "Il existe une commande python pour obtenir le **reste de la division de a par b : `%`**\n",
    "\n",
    "Testez la ci dessous (en faisant <kbd>Ctrl</kbd> + <kbd>Entrée</kbd> sur la cellule suivante)"
   ]
  },
  {
   "cell_type": "code",
   "execution_count": 5,
   "metadata": {},
   "outputs": [
    {
     "data": {
      "text/plain": [
       "13"
      ]
     },
     "execution_count": 5,
     "metadata": {},
     "output_type": "execute_result"
    }
   ],
   "source": [
    "1237%51"
   ]
  },
  {
   "cell_type": "markdown",
   "metadata": {},
   "source": [
    "### Exercice 1:\n",
    "\n",
    "Quel est le reste de la division euclidienne de 2021 par 19 ?"
   ]
  },
  {
   "cell_type": "code",
   "execution_count": 4,
   "metadata": {},
   "outputs": [
    {
     "data": {
      "text/plain": [
       "7"
      ]
     },
     "execution_count": 4,
     "metadata": {},
     "output_type": "execute_result"
    }
   ],
   "source": [
    "#écrivez votre code à exécuter ici\n",
    "\n",
    "2021%19\n",
    "\n",
    "# fin du code"
   ]
  },
  {
   "cell_type": "markdown",
   "metadata": {},
   "source": [
    "Complétez votre réponse ici (pour éditer la cellule, double cliquer dessus)\n",
    "\n",
    "Le quotient de 2021 par 19 est égal à :\n",
    "\n",
    "Le reste de 2021 par 19 est égal à :"
   ]
  },
  {
   "cell_type": "markdown",
   "metadata": {},
   "source": [
    "## Conclusion \n",
    "Le quotient de a par b se code par  ```a//b```\n",
    "\n",
    "Le reste de la division se code par ```a%b``` "
   ]
  },
  {
   "cell_type": "markdown",
   "metadata": {},
   "source": [
    "# Etape 2: savoir si un nombre est un diviseur d'un autre\n",
    "\n",
    "**Rappel**: le nombre entier b est un diviseur de du nombre entier a si a est un multiple de b, autrement dit , s'il existe un nombre entier k tel que $a= k \\times b$\n",
    "\n",
    "Dans ce cas, on dit aussi que a est divisible par b.\n",
    "\n",
    "Cela signifie que le reste de la division euclidienne de a par b est égal à 0\n",
    "\n",
    "Nous avons donc la un magnifique _détecteur de diviseur_ :\n",
    "\n",
    "### A retenir : \n",
    "**Si** le reste de a divisé par b est égal à 0 **alors** b est un diviseur de a\n",
    "\n",
    "#### Application: Codons un détecteur de nombre pair  !\n",
    "\n",
    "Testez plusieurs fois le code ci dessous.\n"
   ]
  },
  {
   "cell_type": "code",
   "execution_count": null,
   "metadata": {},
   "outputs": [],
   "source": [
    "# Détecteur de nombre pair\n",
    "a=int(input(\"Donnez moi un nombre :\"))\n",
    "\n",
    "if a%2==0:  \n",
    "    print(\"C'est un nombre pair\")\n",
    "else: # Sinon\n",
    "    print(\"Ce n'est pas un nombre pair\") "
   ]
  },
  {
   "cell_type": "markdown",
   "metadata": {},
   "source": [
    "Ce programme n'est peut être pas très clair pour vous.\n",
    "Essayons de le décrypter ensemble ligne par ligne :\n",
    "\n",
    "La ligne 2 demande et formate la saisie d'un nombre entier (comme dans le programme du nombre mysterieux)\n",
    "```python\n",
    "a=int(input(\"Donnez moi un nombre :\"))\n",
    "```\n",
    "Les lignes 3 à 7 sont un test conditionnel du type **si** CONDITION **alors** EXECUTION 1 **sinon** EXECUTION 2\n",
    "```python\n",
    "if a%2==0:  # SI le reste de la division de a par 2 est égal à 0  ALORS .....\n",
    "    print(\"C'est un nombre pair\") #  .... afficher \"C'est un nombre pair\"\n",
    "else: # SINON\n",
    "    print(\"Ce n'est pas un nombre pair\") #  .... afficher \"Ce n'est pas un nombre pair\"\n",
    "```\n",
    "\n",
    "Remarquez au passage que l'on peut mettre des commentaires directement dans un programme Python en faisant précéder ce commentaire du caractère # . LEs commentaires sont ignorés pas python lors de l'execution du code.\n",
    "\n",
    "Autre remarque: ce programme très simple n'est pas rédigé de façon correcte du point de vue du programme de 2nde car il faudrait faire une fonction... Mais patience, les fonctions sont prévues pour le prochain chapitre.\n",
    "\n"
   ]
  },
  {
   "cell_type": "markdown",
   "metadata": {},
   "source": [
    "### Exercice 2 Le detecteur de multiples de 3\n",
    "En vous inspirant du code ci dessous, écrire dans la cellule ci-desous un programme qui teste si un nombre est un multiple de 3 "
   ]
  },
  {
   "cell_type": "code",
   "execution_count": 6,
   "metadata": {},
   "outputs": [
    {
     "name": "stdout",
     "output_type": "stream",
     "text": [
      "Donnez moi un nombre :17\n",
      "Ce n'est pas un multiple de 3\n"
     ]
    }
   ],
   "source": [
    "# écrire votre programme ici\n",
    "a=int(input(\"Donnez moi un nombre :\"))\n",
    "\n",
    "if a%3==0:  \n",
    "    print(\"C'est un nombre multiple de 3\")\n",
    "else: # Sinon\n",
    "    print(\"Ce n'est pas un multiple de 3\") "
   ]
  },
  {
   "cell_type": "markdown",
   "metadata": {},
   "source": [
    "# Etape 3: Faire une boucle for\n",
    "\n",
    "Observez le programme ci dessous et exécutez le\n"
   ]
  },
  {
   "cell_type": "code",
   "execution_count": null,
   "metadata": {},
   "outputs": [],
   "source": [
    "for i in range(0,6):\n",
    "    print(\"ce serait super pratique si j'étais puni à faire de la copie\")\n",
    "    print(i)"
   ]
  },
  {
   "cell_type": "markdown",
   "metadata": {},
   "source": [
    "Décryptons la ligne 1\n",
    "```python\n",
    "for i in range(0,6):\n",
    "```\n",
    "En informatique, la boucle for est une structure de contrôle de programmation qui permet de répéter l'exécution d'une séquence d'instructions en parcourant un ensemble itérable.\n",
    "\n",
    "En clair: \n",
    "range(0,6) est une fonction donnant l'ensemble de tous les entiers de 0 à 6 non inclus.\n",
    "<img src=\"img/for.jpg\" width=300 >\n",
    "range(0,6) est donc égale à {0,1,2,3,4,5}\n",
    "\n",
    "La boucle `for` va donc parcourir cet ensemble de nombre un par un à l'aide de la variable `i`.\n",
    "\n",
    "* Ainsi, au début de la boucle for, i vaudra 0.\n",
    "* Au tour suivant, i augmentera de 1 et vaudra 1\n",
    "* Au tour suivant, i augmentera de 1 et vaudra 2 \n",
    "    ...\n",
    "* Au dernier tour, i augmentera de 1 et vaudra 5\n",
    "* et en sortie de boucle, i augmentera de 1 et vaudra 6\n",
    "<img src=\"img/for2.jpg\" width=300 >\n",
    "\n",
    "i va donc prendre toutes les valeurs de range(0,6)une par une.\n",
    "\n",
    "Et, ce qui est important, c'est qu'au passage,à chaque tour de boucle (mais pas en sortie, la **boucle éxecutera les instructions de son sous-programme** (réduit à la ligne 2 et 3 dans notre exemple).\n",
    "<img src=\"img/code 1.jpg\" width=600 >\n",
    "\n",
    "\n",
    "Remarquez que le sous programme est annoncé par les `:` à la fin de ligne 1 et est marqué à partir de la ligne 2 par **l'indentation obligatoire** (Regardez bien le décalage vers la droite de 4 espaces de la ligne 2 et de la ligne 3) \n",
    "\n",
    "L'indentation est le procédé **obligatoire** qui permet à Python de reconnaitre l'agencement et la fin des blocs de sous programmes.\n",
    "<img src=\"img/bloc.jpg\" width=200 >\n",
    "\n",
    "Ainsi à chaque tour de la boucle for, notre programme va : \n",
    "* ligne 2: afficher la phrase \"ce serait super pratique si j'étais puni à faire de la copie\"\n",
    "* ligne 3: afficher la valeur de i au moment du passage dans la boucle\n"
   ]
  },
  {
   "cell_type": "markdown",
   "metadata": {},
   "source": [
    "#### Exercice 3:\n",
    "Ecrire une boucle for qui permet d'afficher les 20 pemiers entiers de 0 à 19\n",
    "\n",
    "\n"
   ]
  },
  {
   "cell_type": "code",
   "execution_count": null,
   "metadata": {},
   "outputs": [],
   "source": [
    "#  Votre programme dans cette cellule\n",
    "for i in range(0,20): \n",
    "    print(i)"
   ]
  },
  {
   "cell_type": "markdown",
   "metadata": {},
   "source": [
    "#### Exercice 4:\n",
    "\n",
    "Ecrire ici un programme qui permet d'écrire les 20 premiers multiples de 2 (de 2 à 40)"
   ]
  },
  {
   "cell_type": "code",
   "execution_count": 8,
   "metadata": {},
   "outputs": [
    {
     "name": "stdout",
     "output_type": "stream",
     "text": [
      "2\n",
      "4\n",
      "6\n",
      "8\n",
      "10\n",
      "12\n",
      "14\n",
      "16\n",
      "18\n",
      "20\n",
      "22\n",
      "24\n",
      "26\n",
      "28\n",
      "30\n",
      "32\n",
      "34\n",
      "36\n",
      "38\n",
      "40\n"
     ]
    }
   ],
   "source": [
    "#  Votre programme dans cette cellule\n",
    "for i in range(1,21):\n",
    "    print(2*i)"
   ]
  },
  {
   "cell_type": "markdown",
   "metadata": {},
   "source": [
    "# Etape 4 Afficher les diviseurs d'un nombre \n",
    "\n",
    "#### Petir rappel:\n",
    "Un nombre entier b est un diviseur de a si le reste de a divisé par b est 0\n",
    "#### Exemple: \n",
    "On voudrait afficher tous les diviseurs de 108.\n",
    "\n",
    "On va donc procéder de la façon suivante: On va tester tous les nombres entre 1 et 108.\n",
    "\n",
    "En **pseudo-code** on peut décrire le programme :\n",
    "\n",
    "1. faire une boucle où i va parcourir l'ensemble des nombres entiers de 1 à 108\n",
    "2. A chaque tour de boucle, on fera un test pour savoir si l'entier i divise 108 ou pas grace au reste de la division euclidienne de 108 par i\n",
    "3. Si oui, on affichera le nombre i.\n",
    "\n",
    "### Exercice 5\n",
    "A vous de coder !"
   ]
  },
  {
   "cell_type": "code",
   "execution_count": null,
   "metadata": {},
   "outputs": [],
   "source": [
    "# Ecrire votre programme ici\n",
    "for i in range(1,109):\n",
    "    if 108%i==0:\n",
    "        print(i)"
   ]
  },
  {
   "cell_type": "markdown",
   "metadata": {},
   "source": [
    "Votre cellule doit afficher:\n",
    "1\n",
    "2\n",
    "3\n",
    "4\n",
    "6\n",
    "9\n",
    "12\n",
    "18\n",
    "27\n",
    "36\n",
    "54\n",
    "108\n",
    "\n",
    "Faisons évoluer notre programme: on voudrait maintenant afficher les diviseurs d'un nombre saisi par l'utilisateur. Pour cela on va réutiliser la fonction \n",
    "```python \n",
    "a=int(input(\"saisissez un nombre entier\")\n",
    "```\n",
    "\n",
    "#### Exercice 6:\n",
    "A vous de coder en modifiant votre programme précédent.\n",
    "\n"
   ]
  },
  {
   "cell_type": "code",
   "execution_count": 14,
   "metadata": {},
   "outputs": [
    {
     "name": "stdout",
     "output_type": "stream",
     "text": [
      "saisissez un nombre entier : 128\n",
      "1\n",
      "2\n",
      "4\n",
      "8\n",
      "16\n",
      "32\n",
      "64\n",
      "128\n"
     ]
    }
   ],
   "source": [
    "# Ecrire votre programme ici\n",
    "a=int(input(\"saisissez un nombre entier : \"))\n",
    "for i in range(1,a+1):\n",
    "    if a%i==0:\n",
    "        print(i)"
   ]
  },
  {
   "attachments": {
    "image.png": {
     "image/png": "[encoded data removed]"
    }
   },
   "cell_type": "markdown",
   "metadata": {},
   "source": [
    "correction: Voici ce que doit afficher votre programme si on tape 128:\n",
    "![image.png](attachment:image.png)\n",
    "\n"
   ]
  },
  {
   "cell_type": "markdown",
   "metadata": {},
   "source": [
    "# ETAPE 5: Compter le nombre de diviseurs\n",
    "\n",
    "Voici un programme qui compte le nombre de nombre pair entre 0 et un nombre n saisi par l'utilisateur.\n",
    "```python\n",
    "n=int(input(\"Entrez le nombre n : \"))\n",
    "compteur=0\n",
    "for i in range(0,n+1):\n",
    "    if i%2==0:\n",
    "        compteur=compteur+1\n",
    "print(\"Le nombre de nombres pairs entre 0 et \",n,\" est de \",compteur)\n",
    "```\n",
    "Vous pouvez essayer ce programme dans la cellule ci dessous .\n",
    "\n"
   ]
  },
  {
   "cell_type": "code",
   "execution_count": 1,
   "metadata": {},
   "outputs": [
    {
     "name": "stdout",
     "output_type": "stream",
     "text": [
      "Entrez le nombre n : 15\n",
      "Le nombre de nombres pairs entre 0 et  15  est de  8\n"
     ]
    }
   ],
   "source": [
    "n=int(input(\"Entrez le nombre n : \"))\n",
    "compteur=0\n",
    "for i in range(0,n+1):\n",
    "    if i%2==0:\n",
    "        compteur=compteur+1\n",
    "print(\"Le nombre de nombres pairs entre 0 et \",n,\" est de \",compteur)\n",
    "\n",
    "        \n",
    "    "
   ]
  },
  {
   "cell_type": "markdown",
   "metadata": {},
   "source": [
    "Analysons ce programme ligne par ligne :\n",
    "\n",
    "**Ligne 1 :**\n",
    "```python\n",
    "n=int(input(\"Entrez le nombre n : \"))\n",
    "```\n",
    "La ligne 1 demande à l'utilisateur de saisir un nombre avec la fonction `input()` et après l'avoir formatée en nombre entier avec la foonction `int()`, le programme met la valeur dans la variable ```n```\n",
    "\n",
    "**Ligne 2 :**\n",
    "```python\n",
    "compteur=0\n",
    "```\n",
    "La ligne 2 crée une variable `compteur` : cette variable instanciée à la valeur 0, va mémoriser le nombre de nombre pair entre 0 et n _(instancier veut dire créer la variable en mémoire et affecté la valeur 0 à cette mémoire)_\n",
    "\n",
    "**Ligne 3 à 5**\n",
    "```python\n",
    "for i in range(0,n+1):\n",
    "    if i%2==0:\n",
    "        compteur=compteur+1\n",
    "```\n",
    "On commence une boucle for à l'aide de la variable i qui va prendre toutes les valeurs de 1 à n successivement (rappel : range(0,n+1) = {0,1,2,3,.........,n}  )\n",
    "\n",
    "A chaque tour de boucle, on execute les **lignes 4 et 5**\n",
    "```python\n",
    "    if i%2==0:\n",
    "        compteur=compteur+1\n",
    "```\n",
    "**Si** i est un nombre pair (c'est à dire si le reste de i divisé par 2 est égal à 0) **alors** on incrémente la variable compteur de 1 _(incrémenter de 1 veut dire augmenter la valeur de compteur de 1 )_\n",
    "\n",
    "**Ligne 6 :** On sort de la boucle :\n",
    "```python\n",
    "print(\"Le nombre de nombres pairs entre 0 et \",n,\" est de \",compteur)\n",
    "```\n",
    "On affiche la réponse en construisant un message par juxtaposition de chaine de caractères et de variables séparés par des virgules.\n",
    "\n"
   ]
  },
  {
   "cell_type": "markdown",
   "metadata": {},
   "source": [
    "### Exercice 7 :\n",
    "En vous inspirant du programme précédent et de celui réalisé pour afficher les diviseurs d'un nombre saisi par l'utilisateur, écrire un programme qui compte le nombre de diviseurs d'un nombre puis qui affiche ce nombre\n",
    "\n",
    "Avant de commencer, voici un exemple d'utilisation de ce programme :\n",
    "<img src=\"img/exo.jpg\" width=500 >\n",
    "\n",
    "A vous de jouer dans la cellule ci dessous !\n",
    "\n"
   ]
  },
  {
   "cell_type": "code",
   "execution_count": 3,
   "metadata": {},
   "outputs": [
    {
     "name": "stdout",
     "output_type": "stream",
     "text": [
      "saisissez un nombre entier n : 108\n",
      "1\n",
      "2\n",
      "3\n",
      "4\n",
      "6\n",
      "9\n",
      "12\n",
      "18\n",
      "27\n",
      "36\n",
      "54\n",
      "108\n",
      "Le nombre de diviseurs de  108  est de  12\n"
     ]
    }
   ],
   "source": [
    "#Votre programme ici\n",
    "n=int(input(\"saisissez un nombre entier n : \"))\n",
    "compteur = 0\n",
    "for i in range(1,n+1):\n",
    "    if n%i==0:\n",
    "        compteur = compteur+1\n",
    "        print(i)\n",
    "print(\"Le nombre de diviseurs de \", n ,\" est de \", compteur)"
   ]
  },
  {
   "cell_type": "markdown",
   "metadata": {},
   "source": [
    "# ETAPE 6: Savoir si un nombre est premier\n",
    "\n",
    "**Rappel de cours**: Un  nombre est premier s'il admet 2 diviseurs: 1 et lui même\n",
    "\n",
    "En utilisant cette définition, écrire un programme qui détermine si un nombre est premier ou pas.\n",
    "\n",
    "Voici 2 exemples d'utilisation de votre programme :\n",
    "\n",
    "<img src=\"img/exo2.jpg\" width=600 >\n",
    "\n",
    "### Exercice 8\n",
    "\n",
    "A vous de jouer dans la cellule ci dessous!\n"
   ]
  },
  {
   "cell_type": "code",
   "execution_count": null,
   "metadata": {},
   "outputs": [],
   "source": [
    "#Votre programme ici\n",
    "n=int(input(\"saisissez un nombre entier n : \"))\n",
    "compteur = 0\n",
    "for i in range(1,n+1):\n",
    "    if n%i==0:\n",
    "        compteur = compteur+1\n",
    "        print(i)\n",
    "print(\"Le nombre de diviseurs de \", n ,\" est de \", compteur)\n",
    "if compteur==2: \n",
    "    print(\"Le nombre \",n,\" est premier\")\n",
    "else:\n",
    "    print(\"Le nombre \",n,\" n'est pas premier\")"
   ]
  },
  {
   "cell_type": "markdown",
   "metadata": {},
   "source": [
    "# Etape 7 : Facultative\n",
    "\n",
    "Nous avons vu en cours qu'il n'est pas nécessaire de tester tous les diviseurs de n pour savoir si un nombre est premier ou pas. \n",
    "\n",
    "Pour cela on doit utiliser la valeur arrondi de $\\sqrt{n}$ à l'entier inférieur .\n",
    "\n",
    "Pour cela on utilisera le fonction mathématique de python `sqrt()` pour la racine carrée et `floor()` pour l'arrondi à l'entier inférieur\n",
    "\n",
    "```python\n",
    "from math import sqrt,floor\n",
    "print(sqrt(2))\n",
    "print(floor(sqrt(2)))\n",
    "```\n",
    "Vous pouvez essayer ces fonctions dans la cellule ci dessous :"
   ]
  },
  {
   "cell_type": "code",
   "execution_count": 4,
   "metadata": {},
   "outputs": [
    {
     "name": "stdout",
     "output_type": "stream",
     "text": [
      "1.7320508075688772\n",
      "1\n"
     ]
    }
   ],
   "source": [
    "from math import sqrt,floor\n",
    "print(sqrt(3)) # affiche racine carrée de 3\n",
    "print(floor(sqrt(3))) # affiche l'arrondi à l'entier inférieur de racine carrée de 3"
   ]
  },
  {
   "cell_type": "markdown",
   "metadata": {},
   "source": [
    "### Exercice 9\n",
    "\n",
    "Ecrire un programme qui détermine si un nombre premier ou pas en testant les diviseurs de 1 à $\\sqrt{n}$.\n",
    "\n",
    "Voici 2 exemples d'utilisation :\n",
    "\n",
    "<img src=\"img/exo3.jpg\" width=600 >\n",
    "\n",
    "A vous de jouer dans la cellule ci dessous!\n"
   ]
  },
  {
   "cell_type": "code",
   "execution_count": 16,
   "metadata": {},
   "outputs": [
    {
     "name": "stdout",
     "output_type": "stream",
     "text": [
      "saisissez un nombre entier n : 98\n",
      "Le nombre  98  n'est pas premier\n"
     ]
    }
   ],
   "source": [
    "#Votre programme ici\n",
    "from math import sqrt,floor\n",
    "n=int(input(\"saisissez un nombre entier n : \"))\n",
    "compteur = 0\n",
    "fin=floor(sqrt(n))\n",
    "for i in range(1,fin+1):\n",
    "    if n%i==0:\n",
    "        compteur = compteur+1\n",
    "if compteur==1: \n",
    "    print(\"Le nombre \",n,\" est premier\")\n",
    "else:\n",
    "    print(\"Le nombre \",n,\" n'est pas premier\")"
   ]
  }
 ],
 "metadata": {
  "kernelspec": {
   "display_name": "Python 3",
   "language": "python",
   "name": "python3"
  },
  "language_info": {
   "codemirror_mode": {
    "name": "ipython",
    "version": 3
   },
   "file_extension": ".py",
   "mimetype": "text/x-python",
   "name": "python",
   "nbconvert_exporter": "python",
   "pygments_lexer": "ipython3",
   "version": "3.7.6"
  }
 },
 "nbformat": 4,
 "nbformat_minor": 4
}
